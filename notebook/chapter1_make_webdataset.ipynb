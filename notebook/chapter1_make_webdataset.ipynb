{
 "cells": [
  {
   "cell_type": "code",
   "execution_count": null,
   "id": "45890b53",
   "metadata": {},
   "outputs": [],
   "source": [
    "import time\n",
    "import numpy as np\n",
    "import os\n",
    "import shutil"
   ]
  },
  {
   "cell_type": "code",
   "execution_count": null,
   "id": "ed00a8f2",
   "metadata": {},
   "outputs": [],
   "source": [
    "arr_dir = \"npy\"\n",
    "shard_dir = \"shard\""
   ]
  },
  {
   "cell_type": "code",
   "execution_count": null,
   "id": "9fe0d5d3",
   "metadata": {},
   "outputs": [],
   "source": [
    "if os.path.exists(arr_dir):\n",
    "    print(\"Deleting exitsting array directory. \")\n",
    "    shutil.rmtree(arr_dir)\n",
    "print(\"(re)creating new array directory\")\n",
    "os.makedirs(arr_dir)\n",
    "\n",
    "if os.path.exists(shard_dir):\n",
    "    print(\"Deleting exitsting shard directory. \")\n",
    "    shutil.rmtree(shard_dir)\n",
    "print(\"(re)creating new shard directory\")\n",
    "os.makedirs(shard_dir)"
   ]
  },
  {
   "cell_type": "code",
   "execution_count": null,
   "id": "0d4df853",
   "metadata": {},
   "outputs": [],
   "source": [
    "num_samples = 100 # number of sample files\n",
    "X_shape = (640,640)\n",
    "\n",
    "recipe_fn = \"npy_recipe\"\n",
    "npy_recipe = open(recipe_fn, \"w\")\n",
    "\n",
    "for i in range(num_samples):\n",
    "    # create input array\n",
    "    X = np.ones(X_shape) * i\n",
    "    # create outpu array\n",
    "    y = np.array(i)\n",
    "    \n",
    "    # set basename for npy input/output files\n",
    "    arr_fn = \"arr_%06d\" % i\n",
    "    # set npy filenames\n",
    "    X_name = f\"{arr_fn}.input.npy\"\n",
    "    y_name = f\"{arr_fn}.output.npy\"\n",
    "    # save array\n",
    "    np.save(os.path.join(arr_dir, X_name), X)\n",
    "    np.save(os.path.join(arr_dir, y_name), y)\n",
    "    \n",
    "    # write sample information onto recipe file\n",
    "    npy_recipe.write(f\"{X_name}\\tfile:{os.path.join(arr_dir, X_name)}\\n\")\n",
    "    npy_recipe.write(f\"{y_name}\\tfile:{os.path.join(arr_dir, y_name)}\\n\")\n",
    "\n",
    "npy_recipe.close()\n",
    "\n",
    " "
   ]
  },
  {
   "cell_type": "markdown",
   "id": "e96d340a",
   "metadata": {},
   "source": [
    "生成されたinput/outputのnpyファイルをlsコマンドで確認します"
   ]
  },
  {
   "cell_type": "code",
   "execution_count": null,
   "id": "9395ffe8",
   "metadata": {},
   "outputs": [],
   "source": [
    "!ls {arr_dir}"
   ]
  },
  {
   "cell_type": "markdown",
   "id": "25feeb59",
   "metadata": {},
   "source": [
    "レシピファイルの中身を確認します。ここでは`head`コマンドでレシピファイルの先頭部分を表示します"
   ]
  },
  {
   "cell_type": "code",
   "execution_count": null,
   "id": "fb08cf9c",
   "metadata": {},
   "outputs": [],
   "source": [
    "!head {recipe_fn}"
   ]
  },
  {
   "cell_type": "markdown",
   "id": "5a82056b",
   "metadata": {},
   "source": [
    "この例では入力ファイルを`{basename}.input.npy`というファイルに、出力（正解）ファイルを`{basename}.output.npy`に出力しています。\n",
    "\n",
    "その際、レシピファイルでは\n",
    "\n",
    "{入力ファイル名} file:{入力ファイルまでのファイルパス} <BR>\n",
    "{出力ファイル名} file:{出力ファイルまでのファイルパス}　<BR>\n",
    "　・<BR>\n",
    "　・<BR>\n",
    "　・<BR>\n",
    "\n",
    "といった形で出力していきます。\n"
   ]
  },
  {
   "cell_type": "markdown",
   "id": "5d36d5f7",
   "metadata": {},
   "source": [
    "### create tar files using tarp command"
   ]
  },
  {
   "cell_type": "markdown",
   "id": "2a240610",
   "metadata": {},
   "source": [
    "`tarp`コマンドを使うと、レシピファイルからwebdataset形式のtarファイルを簡単に作成することができます。 <BR>\n",
    "https://github.com/webdataset/tarp"
   ]
  },
  {
   "cell_type": "code",
   "execution_count": null,
   "id": "83ad937f",
   "metadata": {},
   "outputs": [],
   "source": [
    "!tarp -v create {recipe_fn} -o npy_webdataset.tar"
   ]
  },
  {
   "cell_type": "markdown",
   "id": "0869a033",
   "metadata": {},
   "source": [
    "tarファイルが生成されているか`ls`コマンドで確認します"
   ]
  },
  {
   "cell_type": "code",
   "execution_count": null,
   "id": "c0a41ed9",
   "metadata": {},
   "outputs": [],
   "source": [
    "ls *.tar"
   ]
  },
  {
   "cell_type": "markdown",
   "id": "235d6a48",
   "metadata": {},
   "source": [
    "### tarファイルの分割（シャーディング）\n",
    "\n",
    "大量のファイルをtarファイルにまとめることでデータ転送のオーバーヘッドが改善することができます。\n",
    "しかし、一つのtarファイルに圧縮してしまうとファイル全体を転送するまで学習を始めることができなくなります。ここでは、tarファイルをいくつかのかたまりに分割する（シャーディング）することを考えます。かたまりのサイズはデータ転送効率の観点から100MB-1GBの間で設定することが多いようです。\n",
    "\n",
    "シャードされたtarファイルを用いることで、tarファイルをオーバーヘッドなく転送して、なおかつシーケンシャルアクセスにより高速に読み込みます。データセットのシャッフルについては、シャードをシャッフルして読み込むことと、シーケンシャルリードしたシャードをシャッフルすることによって、データセット全体としてのシャッフルを保証します。\n",
    "\n",
    "\n",
    "tarpを使えば、レシピファイルからシャーディングされたtarファイルを簡単に作成することができます。その場合、`パイプ`を用いることで大元のtarファイルの作成→分割を一つのコマンドラインで記述できます\n",
    "\n",
    "コマンド中の`-`は標準出力/入力を表します。結果を標準出力に吐き出しそれを次のコマンドの入力としています。tarp splitコマンドでは`-c`オプションでファイルの数ごとにtarファイルを分割します。したがってデータの容量に従って`-c`オプションの数値を適切に調整することになります。ここでは10個のサンプルごとにtarファイルを分割しています（これはトイデータセットなので、このような分割は適切ではありません。あくまで動作を検証するためです）\n",
    "\n",
    "出力するシャードは`%04d`のような記述をおこなうことで連番のファイルとして出力することが可能です。"
   ]
  },
  {
   "cell_type": "code",
   "execution_count": null,
   "id": "de2e0fc7",
   "metadata": {},
   "outputs": [],
   "source": [
    "!tarp -v create {recipe_fn} -o - | tarp split - -c 10 -o '{shard_dir}/npy_webdataset-%04d.tar'"
   ]
  },
  {
   "cell_type": "markdown",
   "id": "79e28b40",
   "metadata": {},
   "source": [
    "作成されたシャード（tarファイル）を確認します。連番のtarファイルが作成されていることを確認します。"
   ]
  },
  {
   "cell_type": "code",
   "execution_count": null,
   "id": "3c3b9d63",
   "metadata": {},
   "outputs": [],
   "source": [
    "ls {shard_dir}"
   ]
  },
  {
   "cell_type": "markdown",
   "id": "4be95725",
   "metadata": {},
   "source": [
    "### upload sharded tar files to S3"
   ]
  },
  {
   "cell_type": "markdown",
   "id": "c82042b4",
   "metadata": {},
   "source": [
    "作成したWebDataset形式のtarファイルは、ローカルフォルダ上に置いて機械学習のデータセットとして用いることもできます。しかし、WebDatasetが効果を発揮するのは、ファイル転送がボトルネックとなるようなクラウドストレージ上にデータを保存しているときです。\n",
    "\n",
    "ここでは、作成したtarファイルをS3上にアップロードして動作検証していきます。\n"
   ]
  },
  {
   "cell_type": "code",
   "execution_count": null,
   "id": "e4de99b0",
   "metadata": {
    "scrolled": true
   },
   "outputs": [],
   "source": [
    "bucket = \"put your backet name\"\n",
    "prefix = \"put your prefix\"\n",
    "!aws s3 sync --delete {shard_dir} s3://{bucket}/{prefix}/{shard_dir}/"
   ]
  },
  {
   "cell_type": "code",
   "execution_count": null,
   "id": "a41a40b3",
   "metadata": {},
   "outputs": [],
   "source": []
  }
 ],
 "metadata": {
  "kernelspec": {
   "display_name": "conda_pytorch_p36",
   "language": "python",
   "name": "conda_pytorch_p36"
  },
  "language_info": {
   "codemirror_mode": {
    "name": "ipython",
    "version": 3
   },
   "file_extension": ".py",
   "mimetype": "text/x-python",
   "name": "python",
   "nbconvert_exporter": "python",
   "pygments_lexer": "ipython3",
   "version": "3.6.13"
  }
 },
 "nbformat": 4,
 "nbformat_minor": 5
}
