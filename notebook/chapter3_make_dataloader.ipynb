{
 "cells": [
  {
   "cell_type": "code",
   "execution_count": null,
   "id": "bfaa5d5d",
   "metadata": {},
   "outputs": [],
   "source": [
    "import webdataset as wds\n",
    "import torch\n",
    "import io\n",
    "import numpy as np\n",
    "import time\n",
    "import os"
   ]
  },
  {
   "cell_type": "code",
   "execution_count": null,
   "id": "7451f924",
   "metadata": {},
   "outputs": [],
   "source": [
    "bucket = \"put your bucket name\"\n",
    "prefix = \"put your script\""
   ]
  },
  {
   "cell_type": "code",
   "execution_count": null,
   "id": "438a2827",
   "metadata": {},
   "outputs": [],
   "source": [
    "url = f\"s3://{bucket}/{prefix}/shard/\" + \"npy_webdataset-{0000..0009}.tar\"\n",
    "url = f\"pipe:aws s3 cp {url} - || true\"\n",
    "print(url)"
   ]
  },
  {
   "cell_type": "markdown",
   "id": "a1f613dd",
   "metadata": {},
   "source": [
    "## DataLoaderの作成"
   ]
  },
  {
   "cell_type": "code",
   "execution_count": null,
   "id": "0d71c6bc",
   "metadata": {},
   "outputs": [],
   "source": [
    "dataset = wds.WebDataset(url, shardshuffle=False, cache_dir=None).decode()\n",
    "dataset = dataset.to_tuple(\"input.npy\", \"output.npy\").batched(5)\n",
    "loader = wds.WebLoader(dataset, num_workers=0)\n",
    "\n",
    "start = time.time()\n",
    "for inp, out in loader:\n",
    "    batch_end = time.time()\n",
    "    print(out)\n",
    "\n",
    "end = time.time()\n",
    "print(\"total time: \", (end-start))"
   ]
  },
  {
   "cell_type": "code",
   "execution_count": null,
   "id": "4cab2080",
   "metadata": {},
   "outputs": [],
   "source": [
    "dataset = wds.WebDataset(url, shardshuffle=False, cache_dir=None).decode()\n",
    "dataset = dataset.to_tuple(\"input.npy\", \"output.npy\").shuffle(400)\n",
    "loader = wds.WebLoader(dataset, num_workers=0, batch_size=3)\n",
    "\n",
    "start = time.time()\n",
    "for inp, out in loader:\n",
    "    print(out)\n",
    "end = time.time()\n",
    "print(\"time: \", (end-start))"
   ]
  },
  {
   "cell_type": "code",
   "execution_count": null,
   "id": "0d7bcb0d",
   "metadata": {},
   "outputs": [],
   "source": [
    "# dataset = wds.WebDataset(url, shardshuffle=False, cache_dir=None).decode()\n",
    "dataset = dataset.to_tuple(\"input.npy\", \"output.npy\")\n",
    "loader = wds.WebLoader(dataset, num_workers=2, batch_size=5)\n",
    "\n",
    "for inp, out in loader:\n",
    "    print(out)"
   ]
  },
  {
   "cell_type": "code",
   "execution_count": null,
   "id": "89fbdb2a",
   "metadata": {},
   "outputs": [],
   "source": [
    "dataset = wds.WebDataset(url, shardshuffle=True, cache_dir=None).decode()\n",
    "dataset = dataset.to_tuple(\"input.npy\", \"output.npy\")\n",
    "loader = wds.WebLoader(dataset, num_workers=2, batch_size=5)\n",
    "\n",
    "for inp, out in loader:\n",
    "    print(out)"
   ]
  },
  {
   "cell_type": "code",
   "execution_count": null,
   "id": "9ca4abd0",
   "metadata": {},
   "outputs": [],
   "source": [
    "dataset = wds.WebDataset(url, shardshuffle=True, cache_dir=None).decode()\n",
    "dataset = dataset.to_tuple(\"input.npy\", \"output.npy\")\n",
    "loader = wds.WebLoader(dataset, num_workers=2, batch_size=5,shuffle=True)\n",
    "\n",
    "for inp, out in loader:\n",
    "    print(out)"
   ]
  },
  {
   "cell_type": "code",
   "execution_count": null,
   "id": "c7ce375f",
   "metadata": {},
   "outputs": [],
   "source": [
    "dataset = wds.WebDataset(url, shardshuffle=True, cache_dir=None).decode()\n",
    "dataset = dataset.to_tuple(\"input.npy\", \"output.npy\")\n",
    "loader = wds.WebLoader(dataset, num_workers=2, batch_size=5).shuffle(100)\n",
    "\n",
    "for inp, out in loader:\n",
    "    print(out)"
   ]
  },
  {
   "cell_type": "code",
   "execution_count": null,
   "id": "785acf97",
   "metadata": {},
   "outputs": [],
   "source": [
    "dataset = wds.WebDataset(url, shardshuffle=False, cache_dir=None).decode()\n",
    "dataset = dataset.to_tuple(\"input.npy\", \"output.npy\").shuffle(2).batched(3)\n",
    "loader = wds.WebLoader(dataset, num_workers=3)\n",
    "\n",
    "for inp, out in loader:\n",
    "    print(out)"
   ]
  },
  {
   "cell_type": "code",
   "execution_count": null,
   "id": "c2114386",
   "metadata": {},
   "outputs": [],
   "source": []
  }
 ],
 "metadata": {
  "kernelspec": {
   "display_name": "conda_pytorch_p36",
   "language": "python",
   "name": "conda_pytorch_p36"
  },
  "language_info": {
   "codemirror_mode": {
    "name": "ipython",
    "version": 3
   },
   "file_extension": ".py",
   "mimetype": "text/x-python",
   "name": "python",
   "nbconvert_exporter": "python",
   "pygments_lexer": "ipython3",
   "version": "3.6.13"
  }
 },
 "nbformat": 4,
 "nbformat_minor": 5
}
