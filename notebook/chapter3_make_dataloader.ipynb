{
 "cells": [
  {
   "cell_type": "code",
   "execution_count": 1,
   "id": "0d2fd111",
   "metadata": {},
   "outputs": [],
   "source": [
    "import webdataset as wds\n",
    "import torch\n",
    "import io\n",
    "import numpy as np\n",
    "import time\n",
    "import os"
   ]
  },
  {
   "cell_type": "code",
   "execution_count": 2,
   "id": "6b6ff92f",
   "metadata": {},
   "outputs": [],
   "source": [
    "bucket = \"taturabe-dataset\"\n",
    "prefix = \"dataset/webdataset\""
   ]
  },
  {
   "cell_type": "code",
   "execution_count": 3,
   "id": "6ae942cb",
   "metadata": {},
   "outputs": [
    {
     "name": "stdout",
     "output_type": "stream",
     "text": [
      "pipe:aws s3 cp s3://taturabe-dataset/dataset/webdataset/shard/npy_webdataset-{0000..0009}.tar - || true\n"
     ]
    }
   ],
   "source": [
    "url = f\"s3://{bucket}/{prefix}/shard/\" + \"npy_webdataset-{0000..0009}.tar\"\n",
    "url = f\"pipe:aws s3 cp {url} - || true\"\n",
    "print(url)"
   ]
  },
  {
   "cell_type": "code",
   "execution_count": 4,
   "id": "488b400d",
   "metadata": {},
   "outputs": [
    {
     "name": "stdout",
     "output_type": "stream",
     "text": [
      "tensor([0, 1, 2, 3, 4])\n",
      "tensor([5, 6, 7, 8, 9])\n",
      "tensor([10, 11, 12, 13, 14])\n",
      "tensor([15, 16, 17, 18, 19])\n",
      "tensor([20, 21, 22, 23, 24])\n",
      "tensor([25, 26, 27, 28, 29])\n",
      "tensor([30, 31, 32, 33, 34])\n",
      "tensor([35, 36, 37, 38, 39])\n",
      "tensor([40, 41, 42, 43, 44])\n",
      "tensor([45, 46, 47, 48, 49])\n",
      "tensor([50, 51, 52, 53, 54])\n",
      "tensor([55, 56, 57, 58, 59])\n",
      "tensor([60, 61, 62, 63, 64])\n",
      "tensor([65, 66, 67, 68, 69])\n",
      "tensor([70, 71, 72, 73, 74])\n",
      "tensor([75, 76, 77, 78, 79])\n",
      "tensor([80, 81, 82, 83, 84])\n",
      "tensor([85, 86, 87, 88, 89])\n",
      "tensor([90, 91, 92, 93, 94])\n",
      "tensor([95, 96, 97, 98, 99])\n"
     ]
    }
   ],
   "source": [
    "dataset = wds.WebDataset(url, shardshuffle=False, cache_dir=None).decode()\n",
    "dataset = dataset.to_tuple(\"input.npy\", \"output.npy\").batched(5)\n",
    "loader = wds.WebLoader(dataset, num_workers=0, batch_size=None)\n",
    "\n",
    "for inp, out in loader:\n",
    "    print(out)"
   ]
  },
  {
   "cell_type": "code",
   "execution_count": 5,
   "id": "3db3d5f9",
   "metadata": {},
   "outputs": [
    {
     "name": "stdout",
     "output_type": "stream",
     "text": [
      "tensor([0, 1, 2, 3, 4])\n",
      "tensor([5, 6, 7, 8, 9])\n",
      "tensor([10, 11, 12, 13, 14])\n",
      "tensor([15, 16, 17, 18, 19])\n",
      "tensor([20, 21, 22, 23, 24])\n",
      "tensor([25, 26, 27, 28, 29])\n",
      "tensor([30, 31, 32, 33, 34])\n",
      "tensor([35, 36, 37, 38, 39])\n",
      "tensor([40, 41, 42, 43, 44])\n",
      "tensor([45, 46, 47, 48, 49])\n",
      "tensor([50, 51, 52, 53, 54])\n",
      "tensor([55, 56, 57, 58, 59])\n",
      "tensor([60, 61, 62, 63, 64])\n",
      "tensor([65, 66, 67, 68, 69])\n",
      "tensor([70, 71, 72, 73, 74])\n",
      "tensor([75, 76, 77, 78, 79])\n",
      "tensor([80, 81, 82, 83, 84])\n",
      "tensor([85, 86, 87, 88, 89])\n",
      "tensor([90, 91, 92, 93, 94])\n",
      "tensor([95, 96, 97, 98, 99])\n"
     ]
    }
   ],
   "source": [
    "dataset = wds.WebDataset(url, shardshuffle=False, cache_dir=None).decode()\n",
    "dataset = dataset.to_tuple(\"input.npy\", \"output.npy\")\n",
    "loader = wds.WebLoader(dataset, num_workers=0, batch_size=5)\n",
    "\n",
    "for inp, out in loader:\n",
    "    print(out)"
   ]
  },
  {
   "cell_type": "code",
   "execution_count": null,
   "id": "c070a4ed",
   "metadata": {},
   "outputs": [],
   "source": [
    "dataset = wds.WebDataset(url, shardshuffle=False, cache_dir=None).decode()\n",
    "dataset = dataset.to_tuple(\"input.npy\", \"output.npy\")\n",
    "loader = wds.WebLoader(dataset, num_workers=2, batch_size=5)\n",
    "\n",
    "for inp, out in loader:\n",
    "    print(out)"
   ]
  },
  {
   "cell_type": "code",
   "execution_count": null,
   "id": "14c177da",
   "metadata": {},
   "outputs": [],
   "source": [
    "dataset = wds.WebDataset(url, shardshuffle=True, cache_dir=None).decode()\n",
    "dataset = dataset.to_tuple(\"input.npy\", \"output.npy\")\n",
    "loader = wds.WebLoader(dataset, num_workers=2, batch_size=5)\n",
    "\n",
    "for inp, out in loader:\n",
    "    print(out)"
   ]
  },
  {
   "cell_type": "code",
   "execution_count": null,
   "id": "ec24af0a",
   "metadata": {},
   "outputs": [],
   "source": [
    "dataset = wds.WebDataset(url, shardshuffle=True, cache_dir=None).decode()\n",
    "dataset = dataset.to_tuple(\"input.npy\", \"output.npy\")\n",
    "loader = wds.WebLoader(dataset, num_workers=2, batch_size=5,shuffle=True)\n",
    "\n",
    "for inp, out in loader:\n",
    "    print(out)"
   ]
  },
  {
   "cell_type": "code",
   "execution_count": null,
   "id": "c6fddeec",
   "metadata": {},
   "outputs": [],
   "source": [
    "dataset = wds.WebDataset(url, shardshuffle=True, cache_dir=None).decode()\n",
    "dataset = dataset.to_tuple(\"input.npy\", \"output.npy\")\n",
    "loader = wds.WebLoader(dataset, num_workers=2, batch_size=5).shuffle(100)\n",
    "\n",
    "for inp, out in loader:\n",
    "    print(out)"
   ]
  },
  {
   "cell_type": "code",
   "execution_count": null,
   "id": "97ae3ac5",
   "metadata": {},
   "outputs": [],
   "source": [
    "dataset = wds.WebDataset(url, shardshuffle=False, cache_dir=None).decode()\n",
    "dataset = dataset.to_tuple(\"input.npy\", \"output.npy\").shuffle(2).batched(3)\n",
    "loader = wds.WebLoader(dataset, num_workers=3)\n",
    "\n",
    "for inp, out in loader:\n",
    "    print(out)"
   ]
  },
  {
   "cell_type": "code",
   "execution_count": null,
   "id": "3a85ff45",
   "metadata": {},
   "outputs": [],
   "source": []
  }
 ],
 "metadata": {
  "kernelspec": {
   "display_name": "Python 3",
   "language": "python",
   "name": "python3"
  },
  "language_info": {
   "codemirror_mode": {
    "name": "ipython",
    "version": 3
   },
   "file_extension": ".py",
   "mimetype": "text/x-python",
   "name": "python",
   "nbconvert_exporter": "python",
   "pygments_lexer": "ipython3",
   "version": "3.8.8"
  }
 },
 "nbformat": 4,
 "nbformat_minor": 5
}
